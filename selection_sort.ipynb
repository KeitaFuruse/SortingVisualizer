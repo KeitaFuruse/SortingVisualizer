%matplotlib notebook
import random
import time
import numpy as np
import matplotlib.pyplot as plt
import matplotlib.animation as animation

x = np.array([i for i in range(100)])
y = [i for i in range(100)]
ry = random.sample(y, len(y))
ims =[]

def visualize(y):
    im = plt.plot(x,y,'b')
    ims.append(im)

def selection_sort(a):
    n = len(a)
    for i in range(n-1):
        min = i
        for j in range(i + 1, n):
            if a[j] < a[min]:
                min = j #未ソート済の配列の中から最小値を求める
        a[i],a[min] = a[min], a[i]
        visualize(a)

selection_sort(ry)
fig = plt.figure()
ani = animation.ArtistAnimation(fig,ims, interval= 100)
plt.show()
