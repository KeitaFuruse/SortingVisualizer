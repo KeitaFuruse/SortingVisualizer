%matplotlib notebook
import random
import time
import numpy as np
import matplotlib.pyplot as plt
import matplotlib.animation as animation

x = np.array([i for i in range(50)])
y = [i for i in range(50)]
ry = random.sample(y, len(y))
#plt.bar(x, ry)
ims = []  
def visualize(y):
    im = plt.plot(x,y,'b')
    ims.append(im)
    
def bubble_sort(a):
    n = len(a)
    for i in range(n -1):
        for j in range(n-1, i, -1):
            if a[j-1] > a[j]:
                a[j -1], a[j] = a[j], a[j-1]
                visualize(a)

bubble_sort(ry)

fig = plt.figure()
ani = animation.ArtistAnimation(fig,ims,interval=1)
plt.show()
